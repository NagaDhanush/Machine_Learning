{
  "nbformat": 4,
  "nbformat_minor": 0,
  "metadata": {
    "colab": {
      "name": "Data Preprocessing.ipynb",
      "provenance": [],
      "authorship_tag": "ABX9TyMnXVan85PYUlxgQ/ZQt8oj",
      "include_colab_link": true
    },
    "kernelspec": {
      "name": "python3",
      "display_name": "Python 3"
    }
  },
  "cells": [
    {
      "cell_type": "markdown",
      "metadata": {
        "id": "view-in-github",
        "colab_type": "text"
      },
      "source": [
        "<a href=\"https://colab.research.google.com/github/NagaDhanush/Machine_Learning/blob/master/Data_Preprocessing.ipynb\" target=\"_parent\"><img src=\"https://colab.research.google.com/assets/colab-badge.svg\" alt=\"Open In Colab\"/></a>"
      ]
    },
    {
      "cell_type": "code",
      "metadata": {
        "id": "-q1qibZyk6rJ",
        "colab_type": "code",
        "colab": {}
      },
      "source": [
        "import numpy as np\n",
        "import pandas as pd\n",
        "import matplotlib.pyplot as plt"
      ],
      "execution_count": 0,
      "outputs": []
    },
    {
      "cell_type": "code",
      "metadata": {
        "id": "hlzcmIapqBld",
        "colab_type": "code",
        "outputId": "c473fd24-61de-4c86-8a45-43f72f00b8df",
        "colab": {
          "base_uri": "https://localhost:8080/",
          "height": 206
        }
      },
      "source": [
        "x = np.random.randint(1, 21, size=(5,4)).astype(np.float)\n",
        "x[3, :] = np.nan\n",
        "x[2, 3] = np.nan\n",
        "x[4, 2] = np.nan\n",
        "\n",
        "df = pd.DataFrame(data=x, columns=['A', 'B', 'C', 'D'])\n",
        "df"
      ],
      "execution_count": 0,
      "outputs": [
        {
          "output_type": "execute_result",
          "data": {
            "text/html": [
              "<div>\n",
              "<style scoped>\n",
              "    .dataframe tbody tr th:only-of-type {\n",
              "        vertical-align: middle;\n",
              "    }\n",
              "\n",
              "    .dataframe tbody tr th {\n",
              "        vertical-align: top;\n",
              "    }\n",
              "\n",
              "    .dataframe thead th {\n",
              "        text-align: right;\n",
              "    }\n",
              "</style>\n",
              "<table border=\"1\" class=\"dataframe\">\n",
              "  <thead>\n",
              "    <tr style=\"text-align: right;\">\n",
              "      <th></th>\n",
              "      <th>A</th>\n",
              "      <th>B</th>\n",
              "      <th>C</th>\n",
              "      <th>D</th>\n",
              "    </tr>\n",
              "  </thead>\n",
              "  <tbody>\n",
              "    <tr>\n",
              "      <th>0</th>\n",
              "      <td>15.0</td>\n",
              "      <td>12.0</td>\n",
              "      <td>1.0</td>\n",
              "      <td>3.0</td>\n",
              "    </tr>\n",
              "    <tr>\n",
              "      <th>1</th>\n",
              "      <td>13.0</td>\n",
              "      <td>17.0</td>\n",
              "      <td>1.0</td>\n",
              "      <td>9.0</td>\n",
              "    </tr>\n",
              "    <tr>\n",
              "      <th>2</th>\n",
              "      <td>14.0</td>\n",
              "      <td>3.0</td>\n",
              "      <td>11.0</td>\n",
              "      <td>NaN</td>\n",
              "    </tr>\n",
              "    <tr>\n",
              "      <th>3</th>\n",
              "      <td>NaN</td>\n",
              "      <td>NaN</td>\n",
              "      <td>NaN</td>\n",
              "      <td>NaN</td>\n",
              "    </tr>\n",
              "    <tr>\n",
              "      <th>4</th>\n",
              "      <td>3.0</td>\n",
              "      <td>8.0</td>\n",
              "      <td>NaN</td>\n",
              "      <td>4.0</td>\n",
              "    </tr>\n",
              "  </tbody>\n",
              "</table>\n",
              "</div>"
            ],
            "text/plain": [
              "      A     B     C    D\n",
              "0  15.0  12.0   1.0  3.0\n",
              "1  13.0  17.0   1.0  9.0\n",
              "2  14.0   3.0  11.0  NaN\n",
              "3   NaN   NaN   NaN  NaN\n",
              "4   3.0   8.0   NaN  4.0"
            ]
          },
          "metadata": {
            "tags": []
          },
          "execution_count": 4
        }
      ]
    },
    {
      "cell_type": "code",
      "metadata": {
        "id": "NlcSnqxCqXtB",
        "colab_type": "code",
        "colab": {}
      },
      "source": [
        "df.dropna(axis=0)"
      ],
      "execution_count": 0,
      "outputs": []
    },
    {
      "cell_type": "code",
      "metadata": {
        "id": "NsyByy4jqZ2s",
        "colab_type": "code",
        "colab": {}
      },
      "source": [
        "df.dropna(axis=1)"
      ],
      "execution_count": 0,
      "outputs": []
    },
    {
      "cell_type": "code",
      "metadata": {
        "id": "-7od-Imfqeg2",
        "colab_type": "code",
        "colab": {}
      },
      "source": [
        "df.dropna(axis=0, how='all')"
      ],
      "execution_count": 0,
      "outputs": []
    },
    {
      "cell_type": "code",
      "metadata": {
        "id": "1F_u4E_zq3go",
        "colab_type": "code",
        "colab": {}
      },
      "source": [
        "df.dropna(axis=0, thresh=4)"
      ],
      "execution_count": 0,
      "outputs": []
    },
    {
      "cell_type": "code",
      "metadata": {
        "id": "v_gGy-bnq6cn",
        "colab_type": "code",
        "colab": {}
      },
      "source": [
        "df.dropna(axis=0, subset=['C'])"
      ],
      "execution_count": 0,
      "outputs": []
    },
    {
      "cell_type": "code",
      "metadata": {
        "id": "l9F_Xf_IrUW3",
        "colab_type": "code",
        "colab": {}
      },
      "source": [
        "from sklearn.impute import SimpleImputer"
      ],
      "execution_count": 0,
      "outputs": []
    },
    {
      "cell_type": "code",
      "metadata": {
        "id": "asqHMwQksHE3",
        "colab_type": "code",
        "colab": {}
      },
      "source": [
        "# Mean Imputation\n",
        "imputer = SimpleImputer(missing_values=np.nan, strategy='mean')\n",
        "\n",
        "imputer.fit_transform(df)"
      ],
      "execution_count": 0,
      "outputs": []
    },
    {
      "cell_type": "code",
      "metadata": {
        "id": "nMirxanjsLvi",
        "colab_type": "code",
        "colab": {}
      },
      "source": [
        "# Median Imputation\n",
        "imputer = SimpleImputer(missing_values=np.nan, strategy='median')\n",
        "\n",
        "imputer.fit_transform(df)"
      ],
      "execution_count": 0,
      "outputs": []
    },
    {
      "cell_type": "code",
      "metadata": {
        "id": "lewZlO42sN37",
        "colab_type": "code",
        "colab": {}
      },
      "source": [
        "# Most-frequent Imputation\n",
        "imputer = SimpleImputer(missing_values=np.nan, strategy='most_frequent')\n",
        "\n",
        "imputer.fit_transform(df)"
      ],
      "execution_count": 0,
      "outputs": []
    },
    {
      "cell_type": "code",
      "metadata": {
        "id": "4bQ4PTWVsUvc",
        "colab_type": "code",
        "colab": {}
      },
      "source": [
        "# Constant Imputation\n",
        "imputer = SimpleImputer(missing_values=np.nan, strategy='constant', fill_value=1000)\n",
        "\n",
        "imputer.fit_transform(df)"
      ],
      "execution_count": 0,
      "outputs": []
    },
    {
      "cell_type": "markdown",
      "metadata": {
        "id": "ZsJWt8bZtXKi",
        "colab_type": "text"
      },
      "source": [
        "Handling Categorical Data"
      ]
    },
    {
      "cell_type": "code",
      "metadata": {
        "id": "ccbDjzQ2tZ4m",
        "colab_type": "code",
        "colab": {}
      },
      "source": [
        "df = pd.DataFrame([['green', 'XL', 540, 'class1'],\n",
        "                   ['red', 'M', 600, 'class2'],\n",
        "                   ['black', 'S', 490, 'class1'],\n",
        "                   ['blue', 'L', 750, 'class1']])\n",
        "\n",
        "df.columns = ['color', 'size', 'price', 'class']\n",
        "\n",
        "print('Categorical features: {}, {}, {}'.format('color', 'size', 'class'))\n",
        "df"
      ],
      "execution_count": 0,
      "outputs": []
    },
    {
      "cell_type": "markdown",
      "metadata": {
        "id": "7rdKrN56t2Zc",
        "colab_type": "text"
      },
      "source": [
        "Ordinal features"
      ]
    },
    {
      "cell_type": "code",
      "metadata": {
        "id": "vrFRjG0Ot3ye",
        "colab_type": "code",
        "colab": {}
      },
      "source": [
        "size_mapping = {'S': 1, 'M': 2, 'L':3, 'XL':4}\n",
        "df['size'] = df['size'].map(size_mapping)\n",
        "\n",
        "df"
      ],
      "execution_count": 0,
      "outputs": []
    },
    {
      "cell_type": "code",
      "metadata": {
        "id": "scKfxCLevMlP",
        "colab_type": "code",
        "colab": {}
      },
      "source": [
        "inverse_size_mapping = {v:k for k,v in size_mapping.items()}\n",
        "df['size'] = df['size'].map(inverse_size_mapping)\n",
        "\n",
        "df"
      ],
      "execution_count": 0,
      "outputs": []
    },
    {
      "cell_type": "code",
      "metadata": {
        "id": "NSeJOfvJwIJn",
        "colab_type": "code",
        "colab": {}
      },
      "source": [
        "# Importing LabelEncoder to encode Nominal features\n",
        "\n",
        "from sklearn.preprocessing import LabelEncoder"
      ],
      "execution_count": 0,
      "outputs": []
    },
    {
      "cell_type": "code",
      "metadata": {
        "id": "6KeocPZ4wMYR",
        "colab_type": "code",
        "outputId": "bc4dfd28-7441-4e7e-efbb-5e2609d9a3d9",
        "colab": {
          "base_uri": "https://localhost:8080/",
          "height": 175
        }
      },
      "source": [
        "# Instantiating the LabelEncoder transformer\n",
        "class_encoder = LabelEncoder()\n",
        "\n",
        "# Fitting the label encoder on the 'class' column\n",
        "# In this method, the object associates each class label to a unique number\n",
        "class_encoder.fit(df['class'])\n",
        "\n",
        "# Transforming the 'class' column to its numerically encoded format \n",
        "df['class'] = class_encoder.transform(df['class'])\n",
        "\n",
        "df"
      ],
      "execution_count": 0,
      "outputs": [
        {
          "output_type": "execute_result",
          "data": {
            "text/html": [
              "<div>\n",
              "<style scoped>\n",
              "    .dataframe tbody tr th:only-of-type {\n",
              "        vertical-align: middle;\n",
              "    }\n",
              "\n",
              "    .dataframe tbody tr th {\n",
              "        vertical-align: top;\n",
              "    }\n",
              "\n",
              "    .dataframe thead th {\n",
              "        text-align: right;\n",
              "    }\n",
              "</style>\n",
              "<table border=\"1\" class=\"dataframe\">\n",
              "  <thead>\n",
              "    <tr style=\"text-align: right;\">\n",
              "      <th></th>\n",
              "      <th>color</th>\n",
              "      <th>size</th>\n",
              "      <th>price</th>\n",
              "      <th>class</th>\n",
              "    </tr>\n",
              "  </thead>\n",
              "  <tbody>\n",
              "    <tr>\n",
              "      <th>0</th>\n",
              "      <td>green</td>\n",
              "      <td>XL</td>\n",
              "      <td>540</td>\n",
              "      <td>0</td>\n",
              "    </tr>\n",
              "    <tr>\n",
              "      <th>1</th>\n",
              "      <td>red</td>\n",
              "      <td>M</td>\n",
              "      <td>600</td>\n",
              "      <td>1</td>\n",
              "    </tr>\n",
              "    <tr>\n",
              "      <th>2</th>\n",
              "      <td>black</td>\n",
              "      <td>S</td>\n",
              "      <td>490</td>\n",
              "      <td>0</td>\n",
              "    </tr>\n",
              "    <tr>\n",
              "      <th>3</th>\n",
              "      <td>blue</td>\n",
              "      <td>L</td>\n",
              "      <td>750</td>\n",
              "      <td>0</td>\n",
              "    </tr>\n",
              "  </tbody>\n",
              "</table>\n",
              "</div>"
            ],
            "text/plain": [
              "   color size  price  class\n",
              "0  green   XL    540      0\n",
              "1    red    M    600      1\n",
              "2  black    S    490      0\n",
              "3   blue    L    750      0"
            ]
          },
          "metadata": {
            "tags": []
          },
          "execution_count": 20
        }
      ]
    },
    {
      "cell_type": "code",
      "metadata": {
        "id": "N3Y2hoQVwk44",
        "colab_type": "code",
        "colab": {}
      },
      "source": [
        ""
      ],
      "execution_count": 0,
      "outputs": []
    },
    {
      "cell_type": "code",
      "metadata": {
        "id": "QWhUX087wk3T",
        "colab_type": "code",
        "colab": {}
      },
      "source": [
        ""
      ],
      "execution_count": 0,
      "outputs": []
    }
  ]
}